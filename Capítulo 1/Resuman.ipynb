{
 "cells": [
  {
   "cell_type": "markdown",
   "metadata": {},
   "source": [
    "# Introducción a la estadística"
   ]
  },
  {
   "cell_type": "markdown",
   "metadata": {},
   "source": [
    "Al hablar de la estadística, generalmente lo primero en lo que se suele pensar, es un vector de datos, tal y como la edad de una persona, el sexo o el PIB de un determinado país.\n",
    "\n",
    "Sim embargo, esta definición es muy pobre y no expresa el impacto que genera esta rama de la matemática en la ciencia formal.\n",
    "\n",
    "Una definíción menos coloquial de la estadística es:\n",
    "\n",
    "*Es la ciencia que maneja los datos a través de un proceso que va desde el diseño del estudio, recogida de los datos, análisis, para finalmente organizar, resumir y mostrar la información contenida en ellos para sacar conclusiones. De manera resumida podemos dar otra definición*\n",
    "\n",
    "La estadística es la ciencia que nos permite **aprender** de los datos (Moore, 2006)."
   ]
  },
  {
   "cell_type": "markdown",
   "metadata": {},
   "source": [
    "<div>\n",
    "<p style = 'text-align:center;'>\n",
    "<img src=\"imagen1.png\">\n",
    "</p>\n",
    "</div>"
   ]
  },
  {
   "cell_type": "markdown",
   "metadata": {},
   "source": [
    "Alguien podría preguntarnos alguna vez «¿para qué sirve la estadística?». Entonces, podríamos responderle, no sin razón, que el objetivo de la estadística es «ganar en compresión de un fenómeno a partir de los datos que se manejan sobre este» (Moore, 2006)."
   ]
  },
  {
   "cell_type": "markdown",
   "metadata": {},
   "source": [
    "## Tipos de estadística\n",
    "\n",
    "La estadística de acuerdo al nivel de uso pretendido que le demos como herramienta puede ser de dos clases:"
   ]
  },
  {
   "cell_type": "markdown",
   "metadata": {},
   "source": [
    "**Estadística descriptiva**: La esdística descriptiva, se enfoca en describir a la población.\n",
    "\n",
    "**Estadística inferencial**: Con la que pretendemos establecer conclusiones sobre la población, utilizando como soporte la teoria de la probabilidad."
   ]
  },
  {
   "cell_type": "markdown",
   "metadata": {},
   "source": [
    "### Conceptos clave\n",
    "\n",
    "* Dato: Un valor en un contexto.\n",
    "\n",
    "* Información: Conjunto de datos\n",
    "\n",
    "* Individuo: Elemento del cual se recolecta información\n",
    "\n",
    "* Población: Total de individuos\n",
    "\n",
    "* Muestreo: Proceso de selección de elmentos\n",
    "\n",
    "* Muestra: Porción representativa de la muestra\n",
    "\n",
    "* Inferencia estadística el proceso de extrapolar las características y propiedades de la muestra a las de la población  \n",
    "\n",
    "* Parametro: funcion definida sobre los valores numericos de caracter´ısticas medibles de una poblacion.\n",
    "\n",
    "* Estadıstico: funcion definida sobre los valores numericos de una muestra."
   ]
  },
  {
   "cell_type": "markdown",
   "metadata": {},
   "source": [
    "**La estadística es oportuna cuando existe cierto grado de incertidumbre en un fenómeno, caso contrario es parte de las ciencias determinísticas**"
   ]
  },
  {
   "cell_type": "markdown",
   "metadata": {},
   "source": [
    "### Tipos de variables"
   ]
  },
  {
   "cell_type": "markdown",
   "metadata": {},
   "source": [
    "<div>\n",
    "<p style = 'text-align:center;'>\n",
    "<img src=\"imagen2.png\">\n",
    "</p>\n",
    "</div>"
   ]
  },
  {
   "cell_type": "markdown",
   "metadata": {},
   "source": [
    "Para ejemplificar los distintos tipos de variables, se genera un data frame, donde cada columna es un tipo específico de variable."
   ]
  },
  {
   "cell_type": "code",
   "execution_count": 46,
   "metadata": {
    "scrolled": true
   },
   "outputs": [
    {
     "data": {
      "text/html": [
       "<div>\n",
       "<style scoped>\n",
       "    .dataframe tbody tr th:only-of-type {\n",
       "        vertical-align: middle;\n",
       "    }\n",
       "\n",
       "    .dataframe tbody tr th {\n",
       "        vertical-align: top;\n",
       "    }\n",
       "\n",
       "    .dataframe thead th {\n",
       "        text-align: right;\n",
       "    }\n",
       "</style>\n",
       "<table border=\"1\" class=\"dataframe\">\n",
       "  <thead>\n",
       "    <tr style=\"text-align: right;\">\n",
       "      <th></th>\n",
       "      <th>Cantidad de Materias</th>\n",
       "      <th>Edad</th>\n",
       "      <th>Sexo</th>\n",
       "      <th>Curso</th>\n",
       "    </tr>\n",
       "  </thead>\n",
       "  <tbody>\n",
       "    <tr>\n",
       "      <th>0</th>\n",
       "      <td>4</td>\n",
       "      <td>12</td>\n",
       "      <td>hombre</td>\n",
       "      <td>3</td>\n",
       "    </tr>\n",
       "    <tr>\n",
       "      <th>1</th>\n",
       "      <td>1</td>\n",
       "      <td>13</td>\n",
       "      <td>mujer</td>\n",
       "      <td>2</td>\n",
       "    </tr>\n",
       "    <tr>\n",
       "      <th>2</th>\n",
       "      <td>2</td>\n",
       "      <td>13</td>\n",
       "      <td>hombre</td>\n",
       "      <td>3</td>\n",
       "    </tr>\n",
       "    <tr>\n",
       "      <th>3</th>\n",
       "      <td>2</td>\n",
       "      <td>12</td>\n",
       "      <td>mujer</td>\n",
       "      <td>3</td>\n",
       "    </tr>\n",
       "    <tr>\n",
       "      <th>4</th>\n",
       "      <td>4</td>\n",
       "      <td>11</td>\n",
       "      <td>hombre</td>\n",
       "      <td>4</td>\n",
       "    </tr>\n",
       "    <tr>\n",
       "      <th>5</th>\n",
       "      <td>3</td>\n",
       "      <td>11</td>\n",
       "      <td>hombre</td>\n",
       "      <td>2</td>\n",
       "    </tr>\n",
       "    <tr>\n",
       "      <th>6</th>\n",
       "      <td>1</td>\n",
       "      <td>15</td>\n",
       "      <td>hombre</td>\n",
       "      <td>2</td>\n",
       "    </tr>\n",
       "    <tr>\n",
       "      <th>7</th>\n",
       "      <td>5</td>\n",
       "      <td>14</td>\n",
       "      <td>mujer</td>\n",
       "      <td>3</td>\n",
       "    </tr>\n",
       "    <tr>\n",
       "      <th>8</th>\n",
       "      <td>4</td>\n",
       "      <td>14</td>\n",
       "      <td>hombre</td>\n",
       "      <td>2</td>\n",
       "    </tr>\n",
       "    <tr>\n",
       "      <th>9</th>\n",
       "      <td>3</td>\n",
       "      <td>11</td>\n",
       "      <td>mujer</td>\n",
       "      <td>4</td>\n",
       "    </tr>\n",
       "  </tbody>\n",
       "</table>\n",
       "</div>"
      ],
      "text/plain": [
       "   Cantidad de Materias  Edad    Sexo  Curso\n",
       "0                     4    12  hombre      3\n",
       "1                     1    13   mujer      2\n",
       "2                     2    13  hombre      3\n",
       "3                     2    12   mujer      3\n",
       "4                     4    11  hombre      4\n",
       "5                     3    11  hombre      2\n",
       "6                     1    15  hombre      2\n",
       "7                     5    14   mujer      3\n",
       "8                     4    14  hombre      2\n",
       "9                     3    11   mujer      4"
      ]
     },
     "execution_count": 46,
     "metadata": {},
     "output_type": "execute_result"
    }
   ],
   "source": [
    "import pandas as pd\n",
    "import numpy as np\n",
    "import matplotlib.pyplot as plt\n",
    "datos={\"Cantidad de Materias\":[4,1,2,2,4,3,1,5,4,3],\n",
    "      \"Edad\":[12,13,13,12,11,11,15,14,14,11],\n",
    "      \"Sexo\":[\"hombre\",\"mujer\",\"hombre\",\"mujer\",\"hombre\",\"hombre\",\"hombre\",\"mujer\",\"hombre\",\"mujer\"],\n",
    "      \"Curso\":[3,2,3,3,4,2,2,3,2,4]}\n",
    "\n",
    "df=pd.DataFrame(datos)\n",
    "df"
   ]
  },
  {
   "cell_type": "markdown",
   "metadata": {},
   "source": [
    "* Cantidad de Materias = Discreta\n",
    "* Edad = Continua\n",
    "* Sexo = Nominal \n",
    "* Curso = Ordinal"
   ]
  },
  {
   "cell_type": "markdown",
   "metadata": {},
   "source": [
    "Además, existe la clasificación de variables *dependientes* e *independientes* o a su vez *explicada o respuesta*\n",
    "\n",
    "Variables intermediarias u omitidas, son variables que no son contempladas por el estudio o el modelo planteado en cuestión, es importante su análisis para no presuponer causalidad."
   ]
  },
  {
   "cell_type": "markdown",
   "metadata": {},
   "source": [
    "## Clases de estudios estadísticos\n",
    "\n",
    "Observacional: Son aquellos en los recogemos datos observando por lo que no intervenimos ni alteramos a los individuos de ningún modo.\n",
    "\n",
    "Experimental: Aplicamos tratamientos y luego observamos sus efectos sobre sus sujetos, que aquí pasan a llamarse unidades experimentales."
   ]
  },
  {
   "cell_type": "markdown",
   "metadata": {},
   "source": [
    "## Para responde relizar un adecuador rezanomiento estadístico se deben dar respuesta a las siguientes interrogantes."
   ]
  },
  {
   "cell_type": "markdown",
   "metadata": {},
   "source": [
    "* ¿Cuál es el objetivo del estudio?\n",
    "\n",
    "* ¿Quién es la fuente de los datos?\n",
    "\n",
    "* ¿Con que tipo de muestreo han sido obtenidos los datos?\n",
    "\n",
    "* ¿Existen variables que influyan en los resultados y que se hayan omitido?\n",
    "\n",
    "* ¿Las gráficas resumen adecuadamente los datos?\n",
    "\n",
    "* ¿Las conclusiones se extraen directa y naturalmente de los datos?\n",
    "\n",
    "* ¿Se ha cumplido el objetivo marcado al principio del estudio y tienen sentido y utilidad práctica las conclusiones obtenidas?"
   ]
  },
  {
   "cell_type": "markdown",
   "metadata": {},
   "source": [
    "## Distribuciones de frecuencia"
   ]
  },
  {
   "cell_type": "markdown",
   "metadata": {},
   "source": [
    "Las frecuencias de una variables, hacen referencia a la cantidad de veces que se repite un determinado caracter.\n",
    "\n",
    "Antes de analizar las distribuciones de frecuencia, resulta relevante considerar los siguientes conceptos:\n",
    "\n",
    "* Caracteres: propiedades, rasgos o cualidades de los elementos de la poblaci´on. Estos caracteres pueden dividirse en cualitativos y cuantitativos.\n",
    "\n",
    "* Modalidades: diferentes situaciones posibles de un car´acter. Las modalidades deben ser a la vez exhaustivas y mutuamente excluyentes cada elemento posee una y s´olo una de las modalidades posibles.\n",
    "\n",
    "* Clases: conjunto de una o m´as modalidades en el que se verifica que cada modalidad pertenece a una y s´olo una de las clases."
   ]
  },
  {
   "cell_type": "markdown",
   "metadata": {},
   "source": [
    "Las frecuencias se clasifican de la siguiente forma:\n",
    "\n",
    "Las absolutas, que denotamos ni donde la i hace referencia a la categoría o valor i-ésimo de la variable (también llamado modalidad).\n",
    "\n",
    "Las relativas que se obtienen como las absolutas en relación al N total o suma de todas las frecuencias absolutas de todas las modalidades, que en realidad no es más que el tamaño de la muestra:\n",
    "\n",
    "$$f_{i}=\\frac{n_{i}}{N}$$\n",
    "\n",
    "Además, existen las frecuencias acumuladas tanto para las absolutas y las relativas, y no es mas que la sumatoria de cada distribucion."
   ]
  },
  {
   "cell_type": "markdown",
   "metadata": {},
   "source": [
    "## Tipos de gráficos estadísticos"
   ]
  },
  {
   "cell_type": "markdown",
   "metadata": {},
   "source": [
    "La elección del tipo de gráfico a utilizar, dependera del tipo de dato y objeto de la investigación, a continuacion se ejemplifican estos conceptos."
   ]
  },
  {
   "cell_type": "markdown",
   "metadata": {},
   "source": [
    "### Gráfico de barras simple"
   ]
  },
  {
   "cell_type": "code",
   "execution_count": 60,
   "metadata": {
    "scrolled": false
   },
   "outputs": [
    {
     "data": {
      "image/png": "[encoded data removed]",
      "text/plain": [
       "<Figure size 432x288 with 2 Axes>"
      ]
     },
     "metadata": {
      "needs_background": "light"
     },
     "output_type": "display_data"
    }
   ],
   "source": [
    "figure,(ax,ax1)=plt.subplots(1,2)\n",
    "x=pd.DataFrame(df.Sexo.value_counts())\n",
    "ax.set_title(\"\"\"Diagrama de barras \n",
    "verticales para 1 variable\"\"\")\n",
    "ax.bar(x.index,x.Sexo)\n",
    "ax1.set_title(\"\"\"Diagrama de barras \n",
    "horizontales para 1 variable\"\"\")\n",
    "ax1.barh(x.index,x.Sexo)\n",
    "plt.show()"
   ]
  },
  {
   "cell_type": "markdown",
   "metadata": {},
   "source": [
    "### Gráfico de barras cumpuesto"
   ]
  },
  {
   "cell_type": "code",
   "execution_count": 59,
   "metadata": {
    "scrolled": false
   },
   "outputs": [
    {
     "data": {
      "image/png": "[encoded data removed]",
      "text/plain": [
       "<Figure size 432x288 with 1 Axes>"
      ]
     },
     "metadata": {
      "needs_background": "light"
     },
     "output_type": "display_data"
    },
    {
     "data": {
      "image/png": "[encoded data removed]",
      "text/plain": [
       "<Figure size 432x288 with 1 Axes>"
      ]
     },
     "metadata": {
      "needs_background": "light"
     },
     "output_type": "display_data"
    }
   ],
   "source": [
    "x1=pd.crosstab(df.Curso,df.Sexo)\n",
    "x1.plot(kind=\"bar\")\n",
    "x1.plot(kind=\"barh\")\n",
    "plt.show()"
   ]
  },
  {
   "cell_type": "markdown",
   "metadata": {},
   "source": [
    "### Gráfico de pastel"
   ]
  },
  {
   "cell_type": "code",
   "execution_count": 58,
   "metadata": {
    "scrolled": true
   },
   "outputs": [
    {
     "data": {
      "image/png": "[encoded data removed]",
      "text/plain": [
       "<Figure size 432x288 with 1 Axes>"
      ]
     },
     "metadata": {},
     "output_type": "display_data"
    }
   ],
   "source": [
    "figure,ax=plt.subplots()\n",
    "ax.set_title(\"\"\"Diagrama de pastel\"\"\")\n",
    "ax.pie(x.Sexo)\n",
    "plt.show()"
   ]
  },
  {
   "cell_type": "markdown",
   "metadata": {},
   "source": [
    "### Histograma"
   ]
  },
  {
   "cell_type": "code",
   "execution_count": 66,
   "metadata": {
    "scrolled": true
   },
   "outputs": [
    {
     "data": {
      "image/png": "[encoded data removed]",
      "text/plain": [
       "<Figure size 432x288 with 1 Axes>"
      ]
     },
     "metadata": {
      "needs_background": "light"
     },
     "output_type": "display_data"
    }
   ],
   "source": [
    "figure,ax=plt.subplots()\n",
    "x=pd.DataFrame(df.Sexo.value_counts())\n",
    "ax.set_title(\"\"\"Histograma\"\"\")\n",
    "ax.hist(df[\"Cantidad de Materias\"],5)\n",
    "plt.show()"
   ]
  },
  {
   "cell_type": "markdown",
   "metadata": {},
   "source": [
    "### Gráfico de puntos"
   ]
  },
  {
   "cell_type": "code",
   "execution_count": 71,
   "metadata": {},
   "outputs": [
    {
     "data": {
      "image/png": "[encoded data removed]",
      "text/plain": [
       "<Figure size 432x288 with 1 Axes>"
      ]
     },
     "metadata": {
      "needs_background": "light"
     },
     "output_type": "display_data"
    }
   ],
   "source": [
    "figure,ax=plt.subplots()\n",
    "x=pd.DataFrame(df.Sexo.value_counts())\n",
    "ax.set_title(\"\"\"Gráfico de puntos\"\"\")\n",
    "ax.scatter(df[\"Cantidad de Materias\"],df.Edad)\n",
    "plt.show()"
   ]
  },
  {
   "cell_type": "markdown",
   "metadata": {},
   "source": [
    "### Grafico de series temporales"
   ]
  },
  {
   "cell_type": "code",
   "execution_count": 83,
   "metadata": {
    "scrolled": true
   },
   "outputs": [
    {
     "data": {
      "image/png": "[encoded data removed]",
      "text/plain": [
       "<Figure size 432x288 with 1 Axes>"
      ]
     },
     "metadata": {
      "needs_background": "light"
     },
     "output_type": "display_data"
    }
   ],
   "source": [
    "df[\"fecha\"]=[\"2020-05-\"+str(i) for i in range(10,20)]\n",
    "figure,ax=plt.subplots()\n",
    "ax.set_title(\"\"\"Gráfico de puntos\"\"\")\n",
    "ax.plot(df.fecha,df.Edad)\n",
    "ax.set_xticklabels(df.fecha, rotation=45, ha='right')\n",
    "plt.show()\n"
   ]
  },
  {
   "cell_type": "markdown",
   "metadata": {},
   "source": [
    "# Seleccionar el estilo de la gráfica según el tipo de variable"
   ]
  },
  {
   "cell_type": "markdown",
   "metadata": {},
   "source": [
    "<div>\n",
    "<p style = 'text-align:center;'>\n",
    "<img src=\"imagen3.png\">\n",
    "</p>\n",
    "</div>"
   ]
  }
 ],
 "metadata": {
  "kernelspec": {
   "display_name": "Python 3",
   "language": "python",
   "name": "python3"
  },
  "language_info": {
   "codemirror_mode": {
    "name": "ipython",
    "version": 3
   },
   "file_extension": ".py",
   "mimetype": "text/x-python",
   "name": "python",
   "nbconvert_exporter": "python",
   "pygments_lexer": "ipython3",
   "version": "3.7.6"
  }
 },
 "nbformat": 4,
 "nbformat_minor": 4
}
